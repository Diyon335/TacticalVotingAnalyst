{
  "nbformat": 4,
  "nbformat_minor": 0,
  "metadata": {
    "colab": {
      "provenance": []
    },
    "kernelspec": {
      "name": "python3",
      "display_name": "Python 3"
    },
    "language_info": {
      "name": "python"
    }
  },
  "cells": [
    {
      "cell_type": "code",
      "source": [
        "import numpy as np\n",
        "import re\n",
        "import matplotlib\n",
        "import matplotlib as mpl\n",
        "import matplotlib.pyplot as plt\n",
        "from mpl_toolkits.axes_grid1 import make_axes_locatable\n",
        "from pyparsing.helpers import line\n",
        "\n",
        "# personal average happy, overall average happiness, increase in happiness\n",
        "# average happiness increase with plurality voting and for social index happiness. Concurrent voting counter strategic voting. All of these values should be 0, so don't have to graph them.\n",
        "\n",
        "\n",
        "\n",
        "# for borda tests: overwrite your tacticalVotingAnalyst/strategies/strategies_borda.py  file with the new one from github and also alVotingAnalyst/voting/voting_schemes.py"
      ],
      "metadata": {
        "id": "NWFYXdLV2v6c"
      },
      "execution_count": null,
      "outputs": []
    },
    {
      "cell_type": "markdown",
      "source": [],
      "metadata": {
        "id": "Mi1dH8_rwhm4"
      }
    },
    {
      "cell_type": "code",
      "execution_count": null,
      "metadata": {
        "id": "_ERuySVN1a1O"
      },
      "outputs": [],
      "source": [
        "candidates = [3, 4, 5, 6, 7, 8, 9, 10]\n",
        "voters = [2, 3, 4, 5, 6, 7, 8, 9, 10, 15, 20, 30, 50]\n",
        "\n",
        "# basic overall happiness\n",
        "antiplurality_basic_average_overall_happiness_percentage_my_preference = np.zeros((len(candidates), len(voters)))\n",
        "antiplurality_basic_average_overall_happiness_percentage_social_index = np.zeros((len(candidates), len(voters)))\n",
        "\n",
        "plurality_basic_average_overall_happiness_percentage_my_preference = np.zeros((len(candidates), len(voters)))\n",
        "plurality_basic_average_overall_happiness_percentage_social_index = np.zeros((len(candidates), len(voters)))\n",
        "\n",
        "votingfortwo_basic_average_overall_happiness_percentage_my_preference = np.zeros((len(candidates), len(voters)))\n",
        "votingfortwo_basic_average_overall_happiness_percentage_social_index = np.zeros((len(candidates), len(voters)))\n",
        "\n",
        "borda_basic_average_overall_happiness_percentage_my_preference = np.zeros((len(candidates), len(voters)))\n",
        "borda_basic_average_overall_happiness_percentage_social_index = np.zeros((len(candidates), len(voters)))\n",
        "\n",
        "\n",
        "# risk\n",
        "antiplurality_average_tactical_voting_risk_percentage_my_preference = np.zeros((len(candidates), len(voters)))\n",
        "antiplurality_average_tactical_voting_risk_percentage_social_index = np.zeros((len(candidates), len(voters)))\n",
        "\n",
        "plurality_average_tactical_voting_risk_percentage_my_preference = np.zeros((len(candidates), len(voters)))\n",
        "plurality_average_tactical_voting_risk_percentage_social_index = np.zeros((len(candidates), len(voters)))\n",
        "\n",
        "votingfortwo_average_tactical_voting_risk_percentage_my_preference = np.zeros((len(candidates), len(voters)))\n",
        "votingfortwo_average_tactical_voting_risk_percentage_social_index = np.zeros((len(candidates), len(voters)))\n",
        "\n",
        "borda_average_tactical_voting_risk_percentage_my_preference = np.zeros((len(candidates), len(voters)))\n",
        "borda_average_tactical_voting_risk_percentage_social_index = np.zeros((len(candidates), len(voters)))\n",
        "\n",
        "\n",
        "# basic average happiness increase\n",
        "antiplurality_basic_average_happiness_increase_percentage_my_preference = np.zeros((len(candidates), len(voters)))\n",
        "antiplurality_basic_average_happiness_increase_percentage_social_index = np.zeros((len(candidates), len(voters)))\n",
        "\n",
        "plurality_basic_average_happiness_increase_percentage_my_preference = np.zeros((len(candidates), len(voters)))\n",
        "plurality_basic_average_happiness_increase_percentage_social_index = np.zeros((len(candidates), len(voters)))\n",
        "\n",
        "votingfortwo_basic_average_happiness_increase_percentage_my_preference = np.zeros((len(candidates), len(voters)))\n",
        "votingfortwo_basic_average_happiness_increase_percentage_social_index = np.zeros((len(candidates), len(voters)))\n",
        "\n",
        "borda_basic_average_happiness_increase_percentage_my_preference = np.zeros((len(candidates), len(voters)))\n",
        "borda_basic_average_happiness_increase_percentage_social_index = np.zeros((len(candidates), len(voters)))\n",
        "\n",
        "# conc average overall happiness\n",
        "antiplurality_conc_average_overall_happiness_percentage_my_preference = np.zeros((len(candidates), len(voters)))\n",
        "antiplurality_conc_average_overall_happiness_percentage_social_index = np.zeros((len(candidates), len(voters)))\n",
        "\n",
        "plurality_conc_average_overall_happiness_percentage_my_preference = np.zeros((len(candidates), len(voters)))\n",
        "plurality_conc_average_overall_happiness_percentage_social_index = np.zeros((len(candidates), len(voters)))\n",
        "\n",
        "votingfortwo_conc_average_overall_happiness_percentage_my_preference = np.zeros((len(candidates), len(voters)))\n",
        "votingfortwo_conc_average_overall_happiness_percentage_social_index = np.zeros((len(candidates), len(voters)))\n",
        "\n",
        "borda_conc_average_overall_happiness_percentage_my_preference = np.zeros((len(candidates), len(voters)))\n",
        "borda_conc_average_overall_happiness_percentage_social_index = np.zeros((len(candidates), len(voters)))\n",
        "\n",
        "\n",
        "\n",
        "# conc average voting happiness increases\n",
        "antiplurality_conc_average_overall_happiness_increases_percentage_my_preference = np.zeros((len(candidates), len(voters)))\n",
        "antiplurality_conc_average_overall_happiness_increases_percentage_social_index = np.zeros((len(candidates), len(voters)))\n",
        "\n",
        "plurality_conc_average_overall_happiness_increases_percentage_my_preference = np.zeros((len(candidates), len(voters)))\n",
        "plurality_conc_average_overall_happiness_increases_percentage_social_index = np.zeros((len(candidates), len(voters)))\n",
        "\n",
        "votingfortwo_conc_average_overall_happiness_increases_percentage_my_preference = np.zeros((len(candidates), len(voters)))\n",
        "votingfortwo_conc_average_overall_happiness_increases_percentage_social_index = np.zeros((len(candidates), len(voters)))\n",
        "\n",
        "borda_conc_average_overall_happiness_increases_percentage_my_preference = np.zeros((len(candidates), len(voters)))\n",
        "borda_conc_average_overall_happiness_increases_percentage_social_index = np.zeros((len(candidates), len(voters)))\n",
        "\n",
        "\n",
        "# counter average voting overall\n",
        "antiplurality_counter_average_voting_overall_percentage_my_preference = np.zeros((len(candidates), len(voters)))\n",
        "antiplurality_counter_average_voting_overall_percentage_social_index = np.zeros((len(candidates), len(voters)))\n",
        "\n",
        "plurality_counter_average_voting_overall_percentage_my_preference = np.zeros((len(candidates), len(voters)))\n",
        "plurality_counter_average_voting_overall_percentage_social_index = np.zeros((len(candidates), len(voters)))\n",
        "\n",
        "votingfortwo_counter_average_voting_overall_percentage_my_preference = np.zeros((len(candidates), len(voters)))\n",
        "votingfortwo_counter_average_voting_overall_percentage_social_index = np.zeros((len(candidates), len(voters)))\n",
        "\n",
        "borda_counter_average_voting_overall_percentage_my_preference = np.zeros((len(candidates), len(voters)))\n",
        "borda_counter_average_voting_overall_percentage_social_index = np.zeros((len(candidates), len(voters)))\n",
        "\n",
        "\n",
        "# counter average voting increases\n",
        "antiplurality_counter_average_voting_increases_percentage_my_preference = np.zeros((len(candidates), len(voters)))\n",
        "antiplurality_counter_average_voting_increases_percentage_social_index = np.zeros((len(candidates), len(voters)))\n",
        "\n",
        "plurality_counter_average_voting_increases_percentage_my_preference = np.zeros((len(candidates), len(voters)))\n",
        "plurality_counter_average_voting_increases_percentage_social_index = np.zeros((len(candidates), len(voters)))\n",
        "\n",
        "votingfortwo_counter_average_voting_increases_percentage_my_preference = np.zeros((len(candidates), len(voters)))\n",
        "votingfortwo_counter_average_voting_increases_percentage_social_index = np.zeros((len(candidates), len(voters)))\n",
        "\n",
        "borda_counter_average_voting_increases_percentage_my_preference = np.zeros((len(candidates), len(voters)))\n",
        "borda_counter_average_voting_increases_percentage_social_index = np.zeros((len(candidates), len(voters)))\n",
        "\n",
        "\n",
        "number_regex = \"[-+]?[.]?[\\d]+(?:,\\d\\d\\d)*[\\.]?\\d*(?:[eE][-+]?\\d+)?\""
      ]
    },
    {
      "cell_type": "markdown",
      "source": [
        "read data from text files"
      ],
      "metadata": {
        "id": "4EfOSOLm3RWT"
      }
    },
    {
      "cell_type": "code",
      "source": [
        "for i in range(len(candidates)):\n",
        "  for j in range(len(voters)):\n",
        "    filename = \"/content/results_AntiPlurality_n_candidates_\" + str(candidates[i]) + \"_n_voters_\" + str(voters[j]) + \".txt\"\n",
        "    file1 = open(filename, \"r\")\n",
        "    line1 = file1.readlines()[2]\n",
        "\n",
        "\n",
        "    vals = re.findall(number_regex, line1)\n",
        "    antiplurality_basic_average_overall_happiness_percentage_my_preference[i][j] = vals[0]\n",
        "    antiplurality_basic_average_overall_happiness_percentage_social_index[i][j] = vals[1]\n",
        "\n",
        "print(antiplurality_basic_average_overall_happiness_percentage_social_index)\n",
        "print(\"--------------------------------------\")\n",
        "print(antiplurality_basic_average_overall_happiness_percentage_my_preference)"
      ],
      "metadata": {
        "id": "ibAM956H3Qln"
      },
      "execution_count": null,
      "outputs": []
    },
    {
      "cell_type": "markdown",
      "source": [
        "heat map it up"
      ],
      "metadata": {
        "id": "OIJ1gFgK9N0Y"
      }
    },
    {
      "cell_type": "code",
      "source": [
        "fig, ax = plt.subplots()\n",
        "im = ax.imshow(antiplurality_basic_average_overall_happiness_percentage_social_index)\n",
        "\n",
        "# Show all ticks and label them with the respective list entries\n",
        "ax.set_xticks(np.arange(len(voters)))\n",
        "ax.set_yticks(np.arange(len(candidates)))\n",
        "ax.set_xticklabels(voters)\n",
        "ax.set_yticklabels(candidates)\n",
        "\n",
        "\n",
        "# Rotate the tick labels and set their alignment.\n",
        "#plt.setp(ax.get_xticklabels(), rotation=45, ha=\"right\", rotation_mode=\"anchor\")\n",
        "#plt.setp(ax.get_xticklabels())\n",
        "\n",
        "# Loop over data dimensions and create text annotations.\n",
        "'''\n",
        "for i in range(len(candidates)):\n",
        "    for j in range(len(voters)):\n",
        "        text = ax.text(j, i, antiplurality_basic_average_overall_happiness_percentage_social_index[i, j],\n",
        "                       ha=\"center\", va=\"center\", color=\"w\")\n",
        "'''\n",
        "\n",
        "ax.set_title(\"Harvest of local farmers (in tons/year)\")\n",
        "\n",
        "divider = make_axes_locatable(ax)\n",
        "cax = divider.append_axes(\"right\", size=\"5%\", pad=0.05)\n",
        "\n",
        "plt.colorbar(im, cax=cax)\n",
        "\n",
        "plt.xlabel(\"Number of voters\", labelpad=25)\n",
        "plt.gca().xaxis.set_label_position('bottom')\n",
        "plt.ylabel(\"Number of candidates\", labelpad=-400)\n",
        "\n",
        "fig.tight_layout()\n",
        "plt.show()"
      ],
      "metadata": {
        "id": "zqNd78Nl9NPV"
      },
      "execution_count": null,
      "outputs": []
    },
    {
      "cell_type": "markdown",
      "source": [
        "#################################GRAPHS FOR ALL DATA####################################\n"
      ],
      "metadata": {
        "id": "d3-OxlPb5nBP"
      }
    },
    {
      "cell_type": "code",
      "source": [
        "for i in range(1):\n",
        "  filename = \"/content/results_Borda_n_candidates_\" + str(candidates[i]) + \"_n_voters_\" + str(voters[j]) + \".txt\"\n",
        "  file1 = open(filename, \"r\")\n",
        "\n",
        "  lines = file1.readlines()\n",
        "\n",
        "  for idx, line in enumerate(lines):\n",
        "    print(\"line number: \", str(idx))\n",
        "    print(line)"
      ],
      "metadata": {
        "id": "cQ1bc2cyAAdZ"
      },
      "execution_count": null,
      "outputs": []
    },
    {
      "cell_type": "markdown",
      "source": [
        "Get AntiPlurality data"
      ],
      "metadata": {
        "id": "bdKWjQ_yFsGu"
      }
    },
    {
      "cell_type": "code",
      "source": [
        "for i in range(len(candidates)):\n",
        "  for j in range(len(voters)):\n",
        "    filename = \"/content/results_AntiPlurality_n_candidates_\" + str(candidates[i]) + \"_n_voters_\" + str(voters[j]) + \".txt\"\n",
        "    file1 = open(filename, \"r\")\n",
        "\n",
        "    lines = file1.readlines()\n",
        "\n",
        "    # lines[2] is basic_average_overall_happiness\n",
        "    line1 = lines[2]\n",
        "    vals = re.findall(number_regex, line1)\n",
        "    antiplurality_basic_average_overall_happiness_percentage_my_preference[i][j] = vals[0]\n",
        "    antiplurality_basic_average_overall_happiness_percentage_social_index[i][j] = vals[1]\n",
        "\n",
        "    # lines[4] is Average tactical voting risk for percentage_my_preference\n",
        "    line2 = lines[4]\n",
        "    vals = re.findall(number_regex, line2)\n",
        "    antiplurality_average_tactical_voting_risk_percentage_my_preference[i][j] = vals[0]\n",
        "\n",
        "    # lines[6] is Average tactical voting risk for percentage_social_index\n",
        "    line3 = lines[6]\n",
        "    vals = re.findall(number_regex, line3)\n",
        "    antiplurality_average_tactical_voting_risk_percentage_social_index[i][j] = vals[0]\n",
        "\n",
        "    # lines[8] is basic_average_happiness_increase\n",
        "    line4 = lines[8]\n",
        "    vals = re.findall(number_regex, line4)\n",
        "    antiplurality_basic_average_happiness_increase_percentage_my_preference[i][j] = vals[0]\n",
        "    antiplurality_basic_average_happiness_increase_percentage_social_index[i][j] = vals[1]\n",
        "\n",
        "    # lines[10] is conc_average_overall_happiness\n",
        "    line5 = lines[10]\n",
        "    vals = re.findall(number_regex, line5)\n",
        "    antiplurality_conc_average_overall_happiness_percentage_my_preference[i][j] = vals[0]\n",
        "    antiplurality_conc_average_overall_happiness_percentage_social_index[i][j] = vals[1]\n",
        "\n",
        "    # lines[12] is conc_average_voting_happiness_increases\n",
        "    line6 = lines[12]\n",
        "    vals = re.findall(number_regex, line6)\n",
        "    antiplurality_conc_average_overall_happiness_increases_percentage_my_preference[i][j] = vals[0]\n",
        "    antiplurality_conc_average_overall_happiness_increases_percentage_social_index[i][j] = vals[1]\n",
        "\n",
        "    # lines[14] is counter_average_voting_dict_overall\n",
        "    line7 = lines[14]\n",
        "    vals = re.findall(number_regex, line7)\n",
        "    #antiplurality_counter_average_voting_overall_percentage_my_preference[i][j] = vals[0]\n",
        "    #antiplurality_counter_average_voting_overall_percentage_social_index[i][j] = vals[1]\n",
        "\n",
        "    # lines[16] is counter_average_voting_dict_increases\n",
        "    line8 = lines[16]\n",
        "    vals = re.findall(number_regex, line8)\n",
        "    #antiplurality_counter_average_voting_increases_percentage_my_preference[i][j] = vals[0]\n",
        "    #antiplurality_counter_average_voting_increases_percentage_social_index[i][j] = vals[1]\n",
        "\n",
        "print(antiplurality_counter_average_voting_increases_percentage_my_preference)\n",
        "print(\"--------------------------------------\")\n",
        "print(antiplurality_counter_average_voting_overall_percentage_my_preference)"
      ],
      "metadata": {
        "id": "FMdV2f1e5qH4"
      },
      "execution_count": null,
      "outputs": []
    },
    {
      "cell_type": "markdown",
      "source": [
        "Get Plurality data"
      ],
      "metadata": {
        "id": "WBtRSloiFvei"
      }
    },
    {
      "cell_type": "code",
      "source": [
        "for i in range(len(candidates)):\n",
        "  for j in range(len(voters)):\n",
        "    filename = \"/content/results_Plurality_n_candidates_\" + str(candidates[i]) + \"_n_voters_\" + str(voters[j]) + \".txt\"\n",
        "    file1 = open(filename, \"r\")\n",
        "\n",
        "    lines = file1.readlines()\n",
        "\n",
        "    # lines[2] is basic_average_overall_happiness\n",
        "    line1 = lines[2]\n",
        "    vals = re.findall(number_regex, line1)\n",
        "    plurality_basic_average_overall_happiness_percentage_my_preference[i][j] = vals[0]\n",
        "    plurality_basic_average_overall_happiness_percentage_social_index[i][j] = vals[1]\n",
        "\n",
        "    # lines[4] is Average tactical voting risk for percentage_my_preference\n",
        "    line2 = lines[4]\n",
        "    vals = re.findall(number_regex, line2)\n",
        "    plurality_average_tactical_voting_risk_percentage_my_preference[i][j] = vals[0]\n",
        "\n",
        "    # lines[6] is Average tactical voting risk for percentage_social_index\n",
        "    line3 = lines[6]\n",
        "    vals = re.findall(number_regex, line3)\n",
        "    plurality_average_tactical_voting_risk_percentage_social_index[i][j] = vals[0]\n",
        "\n",
        "    # lines[8] is basic_average_happiness_increase\n",
        "    line4 = lines[8]\n",
        "    vals = re.findall(number_regex, line4)\n",
        "    plurality_basic_average_happiness_increase_percentage_my_preference[i][j] = vals[0]\n",
        "    plurality_basic_average_happiness_increase_percentage_social_index[i][j] = vals[1]\n",
        "\n",
        "    # lines[10] is conc_average_overall_happiness\n",
        "    line5 = lines[10]\n",
        "    vals = re.findall(number_regex, line5)\n",
        "    plurality_conc_average_overall_happiness_percentage_my_preference [i][j] = vals[0]\n",
        "    plurality_conc_average_overall_happiness_percentage_social_index[i][j] = vals[1]\n",
        "\n",
        "    # lines[12] is conc_average_voting_happiness_increases\n",
        "    line6 = lines[12]\n",
        "    vals = re.findall(number_regex, line6)\n",
        "    plurality_conc_average_overall_happiness_increases_percentage_my_preference[i][j] = vals[0]\n",
        "    plurality_conc_average_overall_happiness_increases_percentage_social_index[i][j] = vals[1]\n",
        "\n",
        "    # lines[14] is counter_average_voting_dict_overall\n",
        "    line7 = lines[14]\n",
        "    vals = re.findall(number_regex, line7)\n",
        "    #plurality_counter_average_voting_overall_percentage_my_preference[i][j] = vals[0]\n",
        "    #plurality_counter_average_voting_overall_percentage_social_index[i][j] = vals[1] # this  is not returned by the testing for this value, so omit it\n",
        "\n",
        "    # lines[16] is counter_average_voting_dict_increases\n",
        "    line8 = lines[16]\n",
        "    vals = re.findall(number_regex, line8)\n",
        "    #plurality_counter_average_voting_increases_percentage_my_preference[i][j] = vals[0]\n",
        "    #plurality_counter_average_voting_increases_percentage_social_index[i][j] = vals[1] # this  is not returned by the testing for this value, so omit it\n",
        "\n",
        "print(plurality_basic_average_happiness_increase_percentage_social_index)\n",
        "print(\"--------------------------------------\")\n",
        "print(plurality_conc_average_overall_happiness_increases_percentage_social_index)"
      ],
      "metadata": {
        "id": "PzrdgAafFw1m"
      },
      "execution_count": null,
      "outputs": []
    },
    {
      "cell_type": "markdown",
      "source": [
        "Get VotingForTwo data"
      ],
      "metadata": {
        "id": "zUc4sX73G_wi"
      }
    },
    {
      "cell_type": "code",
      "source": [
        "for i in range(len(candidates)):\n",
        "  for j in range(len(voters)):\n",
        "    filename = \"/content/results_VotingForTwo_n_candidates_\" + str(candidates[i]) + \"_n_voters_\" + str(voters[j]) + \".txt\"\n",
        "    file1 = open(filename, \"r\")\n",
        "\n",
        "    lines = file1.readlines()\n",
        "\n",
        "    # lines[2] is basic_average_overall_happiness\n",
        "    line1 = lines[2]\n",
        "    vals = re.findall(number_regex, line1)\n",
        "    votingfortwo_basic_average_overall_happiness_percentage_my_preference[i][j] = vals[0]\n",
        "    votingfortwo_basic_average_overall_happiness_percentage_social_index[i][j] = vals[1]\n",
        "\n",
        "    # lines[4] is Average tactical voting risk for percentage_my_preference\n",
        "    line2 = lines[4]\n",
        "    vals = re.findall(number_regex, line2)\n",
        "    votingfortwo_average_tactical_voting_risk_percentage_my_preference[i][j] = vals[0]\n",
        "\n",
        "    # lines[6] is Average tactical voting risk for percentage_social_index\n",
        "    line3 = lines[6]\n",
        "    vals = re.findall(number_regex, line3)\n",
        "    votingfortwo_average_tactical_voting_risk_percentage_social_index[i][j] = vals[0]\n",
        "\n",
        "    # lines[8] is basic_average_happiness_increase\n",
        "    line4 = lines[8]\n",
        "    vals = re.findall(number_regex, line4)\n",
        "    votingfortwo_basic_average_happiness_increase_percentage_my_preference[i][j] = vals[0]\n",
        "    votingfortwo_basic_average_happiness_increase_percentage_social_index[i][j] = vals[1]\n",
        "\n",
        "    # lines[10] is conc_average_overall_happiness\n",
        "    line5 = lines[10]\n",
        "    vals = re.findall(number_regex, line5)\n",
        "    votingfortwo_conc_average_overall_happiness_percentage_my_preference[i][j] = vals[0]\n",
        "    votingfortwo_conc_average_overall_happiness_percentage_social_index[i][j] = vals[1]\n",
        "\n",
        "    # lines[12] is conc_average_voting_happiness_increases\n",
        "    line6 = lines[12]\n",
        "    vals = re.findall(number_regex, line6)\n",
        "    votingfortwo_conc_average_overall_happiness_increases_percentage_my_preference[i][j] = vals[0]\n",
        "    votingfortwo_conc_average_overall_happiness_increases_percentage_social_index[i][j] = vals[1]\n",
        "\n",
        "    # lines[14] is counter_average_voting_dict_overall\n",
        "    line7 = lines[14]\n",
        "    vals = re.findall(number_regex, line7)\n",
        "    #votingfortwo_counter_average_voting_overall_percentage_my_preference[i][j] = vals[0]\n",
        "    #votingfortwo_counter_average_voting_overall_percentage_social_index[i][j] = vals[1] # this  is not returned by the testing for this value, so omit it\n",
        "\n",
        "    # lines[16] is counter_average_voting_dict_increases\n",
        "    line8 = lines[16]\n",
        "    vals = re.findall(number_regex, line8)\n",
        "    #votingfortwo_counter_average_voting_increases_percentage_my_preference[i][j] = vals[0]\n",
        "    #votingfortwo_counter_average_voting_increases_percentage_social_index[i][j] = vals[1] # this  is not returned by the testing for this value, so omit it\n",
        "\n",
        "print(votingfortwo_counter_average_voting_increases_percentage_my_preference)\n",
        "print(\"--------------------------------------\")\n",
        "print(votingfortwo_counter_average_voting_increases_percentage_my_preference)"
      ],
      "metadata": {
        "id": "_gDtLiW3HCJp"
      },
      "execution_count": null,
      "outputs": []
    },
    {
      "cell_type": "markdown",
      "source": [
        "Get data for Borda"
      ],
      "metadata": {
        "id": "DO3TdZNRq3aw"
      }
    },
    {
      "cell_type": "code",
      "source": [
        "for i in range(len(candidates)):\n",
        "  for j in range(len(voters)):\n",
        "    filename = \"/content/results_Borda_n_candidates_\" + str(candidates[i]) + \"_n_voters_\" + str(voters[j]) + \".txt\"\n",
        "    file1 = open(filename, \"r\")\n",
        "\n",
        "    lines = file1.readlines()\n",
        "\n",
        "    # lines[2] is basic_average_overall_happiness\n",
        "    line1 = lines[2]\n",
        "    vals = re.findall(number_regex, line1)\n",
        "    borda_basic_average_overall_happiness_percentage_my_preference[i][j] = vals[0]\n",
        "    borda_basic_average_overall_happiness_percentage_social_index[i][j] = vals[1]\n",
        "\n",
        "    # lines[4] is Average tactical voting risk for percentage_my_preference\n",
        "    line2 = lines[4]\n",
        "    vals = re.findall(number_regex, line2)\n",
        "    borda_average_tactical_voting_risk_percentage_my_preference[i][j] = vals[0]\n",
        "\n",
        "    # lines[6] is Average tactical voting risk for percentage_social_index\n",
        "    line3 = lines[6]\n",
        "    vals = re.findall(number_regex, line3)\n",
        "    borda_average_tactical_voting_risk_percentage_social_index[i][j] = vals[0]\n",
        "\n",
        "    # lines[8] is basic_average_happiness_increase\n",
        "    line4 = lines[8]\n",
        "    vals = re.findall(number_regex, line4)\n",
        "    borda_basic_average_happiness_increase_percentage_my_preference[i][j] = vals[0]\n",
        "    borda_basic_average_happiness_increase_percentage_social_index[i][j] = vals[1]\n",
        "\n",
        "    # lines[10] is conc_average_overall_happiness\n",
        "    line5 = lines[10]\n",
        "    vals = re.findall(number_regex, line5)\n",
        "    borda_conc_average_overall_happiness_percentage_my_preference[i][j] = vals[0]\n",
        "    borda_conc_average_overall_happiness_percentage_social_index[i][j] = vals[1]\n",
        "\n",
        "    # lines[12] is conc_average_voting_happiness_increases\n",
        "    line6 = lines[12]\n",
        "    vals = re.findall(number_regex, line6)\n",
        "    borda_conc_average_overall_happiness_increases_percentage_my_preference[i][j] = vals[0]\n",
        "    borda_conc_average_overall_happiness_increases_percentage_social_index[i][j] = vals[1]\n",
        "\n",
        "    # lines[14] is counter_average_voting_dict_overall\n",
        "    line7 = lines[14]\n",
        "    vals = re.findall(number_regex, line7)\n",
        "    borda_counter_average_voting_overall_percentage_my_preference[i][j] = vals[0]\n",
        "    borda_counter_average_voting_overall_percentage_social_index[i][j] = vals[1] # this  is not returned by the testing for this value, so omit it\n",
        "\n",
        "    # lines[16] is counter_average_voting_dict_increases\n",
        "    line8 = lines[16]\n",
        "    vals = re.findall(number_regex, line8)\n",
        "    borda_counter_average_voting_increases_percentage_my_preference[i][j] = vals[0]\n",
        "    borda_counter_average_voting_increases_percentage_social_index[i][j] = vals[1] # this  is not returned by the testing for this value, so omit it\n",
        "\n",
        "print(borda_basic_average_happiness_increase_percentage_my_preference)\n",
        "print(\"--------------------------------------\")\n",
        "print(borda_basic_average_happiness_increase_percentage_social_index)"
      ],
      "metadata": {
        "id": "zxmdeS1Lq5SY"
      },
      "execution_count": null,
      "outputs": []
    },
    {
      "cell_type": "code",
      "source": [
        "def plot_it_mate(imshow_what, title):\n",
        "  fig, ax = plt.subplots()\n",
        "  im = ax.imshow(imshow_what)\n",
        "\n",
        "  # Show all ticks and label them with the respective list entries\n",
        "  ax.set_xticks(np.arange(len(voters)))\n",
        "  ax.set_yticks(np.arange(len(candidates)))\n",
        "  ax.set_xticklabels(voters)\n",
        "  ax.set_yticklabels(candidates)\n",
        "\n",
        "\n",
        "  # Rotate the tick labels and set their alignment.\n",
        "  #plt.setp(ax.get_xticklabels(), rotation=45, ha=\"right\", rotation_mode=\"anchor\")\n",
        "  #plt.setp(ax.get_xticklabels())\n",
        "\n",
        "  # Loop over data dimensions and create text annotations.\n",
        "  '''\n",
        "  for i in range(len(candidates)):\n",
        "      for j in range(len(voters)):\n",
        "          text = ax.text(j, i, antiplurality_basic_average_overall_happiness_percentage_social_index[i, j],\n",
        "                        ha=\"center\", va=\"center\", color=\"w\")\n",
        "  '''\n",
        "\n",
        "  ax.set_title(title)\n",
        "\n",
        "  divider = make_axes_locatable(ax)\n",
        "  cax = divider.append_axes(\"right\", size=\"5%\", pad=0.05)\n",
        "\n",
        "  plt.colorbar(im, cax=cax)\n",
        "\n",
        "  plt.xlabel(\"Number of voters\", labelpad=25)\n",
        "  plt.gca().xaxis.set_label_position('bottom')\n",
        "  plt.ylabel(\"Number of candidates\", labelpad=-400)\n",
        "\n",
        "  fig.tight_layout()\n",
        "  plt.show()"
      ],
      "metadata": {
        "id": "CYyqGSgUEx2w"
      },
      "execution_count": null,
      "outputs": []
    },
    {
      "cell_type": "markdown",
      "source": [
        "Plot [voting_scheme]_basic_average_overall_happiness_percentage_my_preference of the 4 voting schemes"
      ],
      "metadata": {
        "id": "5vu94q5lFdPM"
      }
    },
    {
      "cell_type": "code",
      "source": [
        "\n",
        "plot_it_mate(plurality_basic_average_overall_happiness_percentage_my_preference, \"Plurality voting basic average overall happiness H_p\")\n",
        "plot_it_mate(antiplurality_basic_average_overall_happiness_percentage_my_preference, \"Antiplurality voting basic average overall happiness H_p\")\n",
        "plot_it_mate(votingfortwo_basic_average_overall_happiness_percentage_my_preference, \"Voting for two basic average overall happiness H_p\")\n",
        "plot_it_mate(borda_basic_average_overall_happiness_percentage_my_preference, \"Borda basic average overall happiness H_p\")"
      ],
      "metadata": {
        "id": "hTjakI9IFnqn"
      },
      "execution_count": null,
      "outputs": []
    },
    {
      "cell_type": "markdown",
      "source": [
        "Plot [voting_scheme]basic_average_overall_happiness_percentage_social_index of the 4 voting schemes"
      ],
      "metadata": {
        "id": "tlMyAGZnJHwv"
      }
    },
    {
      "cell_type": "code",
      "source": [
        "plot_it_mate(plurality_basic_average_overall_happiness_percentage_social_index, \"Plurality voting basic average overall happiness H_si\")\n",
        "plot_it_mate(antiplurality_basic_average_overall_happiness_percentage_social_index, \"Antiplurality voting basic average overall happiness H_si\")\n",
        "plot_it_mate(votingfortwo_basic_average_overall_happiness_percentage_social_index, \"Voting for two basic average overall happiness percentage H_si\")\n",
        "plot_it_mate(borda_basic_average_overall_happiness_percentage_social_index, \"Borda basic average overall happiness percentage H_si\") "
      ],
      "metadata": {
        "id": "MrF-9bnBIeof"
      },
      "execution_count": null,
      "outputs": []
    },
    {
      "cell_type": "markdown",
      "source": [
        "Plot [voting_scheme]_average_tactical_voting_risk_percentage_my_preference of the 4 voting schemes"
      ],
      "metadata": {
        "id": "zSsB8BTpKqwX"
      }
    },
    {
      "cell_type": "code",
      "source": [
        "plot_it_mate(plurality_average_tactical_voting_risk_percentage_my_preference, \"Plurality voting average tactical voting risk H_p\")\n",
        "plot_it_mate(antiplurality_average_tactical_voting_risk_percentage_my_preference, \"antiplurality average tactical voting risk H_p\")\n",
        "plot_it_mate(votingfortwo_average_tactical_voting_risk_percentage_my_preference, \"Voting for two average tactical voting risk H_p\")\n",
        "plot_it_mate(borda_average_tactical_voting_risk_percentage_my_preference, \"Borda average tactical voting risk H_p\")"
      ],
      "metadata": {
        "id": "FG2oxbYtKvH6"
      },
      "execution_count": null,
      "outputs": []
    },
    {
      "cell_type": "markdown",
      "source": [
        "Plot [voting_scheme]_average_tactical_voting_risk_percentage_social_index of the 4 voting schemes"
      ],
      "metadata": {
        "id": "FhXov6TDK6Vm"
      }
    },
    {
      "cell_type": "code",
      "source": [
        "# testing/experiments return nothing for the first plot, so omit it\n",
        "#plot_it_mate(plurality_average_tactical_voting_risk_percentage_social_index, \"plurality_average_tactical_voting_risk_percentage_social_index\")\n",
        "plot_it_mate(antiplurality_average_tactical_voting_risk_percentage_social_index, \"Antiplurality voting average tactical voting risk H_si\")\n",
        "plot_it_mate(votingfortwo_average_tactical_voting_risk_percentage_social_index, \"Voting for two average tactical voting risk percentage H_si\")\n",
        "plot_it_mate(borda_average_tactical_voting_risk_percentage_social_index, \"Borda average tactical voting risk percentage H_si\")"
      ],
      "metadata": {
        "id": "OkaOr37oLChr"
      },
      "execution_count": null,
      "outputs": []
    },
    {
      "cell_type": "markdown",
      "source": [
        "Plot [voting_scheme]_basic_average_happiness_increase_percentage_my_preference of the 4 voting schemes"
      ],
      "metadata": {
        "id": "j0sDyjY_LvPF"
      }
    },
    {
      "cell_type": "code",
      "source": [
        "plot_it_mate(plurality_basic_average_happiness_increase_percentage_my_preference, \"Plurality voting basic average happiness increase H_p\")\n",
        "plot_it_mate(antiplurality_basic_average_happiness_increase_percentage_my_preference, \"Antiplurality voting basic average happiness increase H_p\")\n",
        "plot_it_mate(votingfortwo_basic_average_happiness_increase_percentage_my_preference, \"Voting for two basic average happiness increase H_p\")\n",
        "plot_it_mate(borda_basic_average_happiness_increase_percentage_my_preference, \"borda basic average happiness increase H_p\")"
      ],
      "metadata": {
        "id": "FPv8W2asLoae"
      },
      "execution_count": null,
      "outputs": []
    },
    {
      "cell_type": "markdown",
      "source": [
        "Plot [voting_scheme]_basic_average_happiness_increase_percentage_social_index of the 4 voting schemes"
      ],
      "metadata": {
        "id": "KJ8nDGx8L8_f"
      }
    },
    {
      "cell_type": "code",
      "source": [
        "# experiments/tests return nothing for the firt plots values, so omit it.\n",
        "#plot_it_mate(plurality_basic_average_happiness_increase_percentage_social_index, \"plurality_basic_average_happiness_increase_percentage_social_index\")\n",
        "plot_it_mate(antiplurality_basic_average_happiness_increase_percentage_social_index, \"Antiplurality voting basic average happiness increase percentage H_si\")\n",
        "plot_it_mate(votingfortwo_basic_average_happiness_increase_percentage_social_index, \"Voting for two basic average happiness increase H_si\")\n",
        "plot_it_mate(borda_basic_average_happiness_increase_percentage_social_index, \"borda basic average happiness increase H_si\")"
      ],
      "metadata": {
        "id": "bwg1SQ6jL_cA"
      },
      "execution_count": null,
      "outputs": []
    },
    {
      "cell_type": "markdown",
      "source": [
        "plot [voting_scheme]_conc_average_overall_happiness_percentage_my_preference of the 4 voting schemes"
      ],
      "metadata": {
        "id": "O0lUrdyOMOcA"
      }
    },
    {
      "cell_type": "code",
      "source": [
        "plot_it_mate(plurality_conc_average_overall_happiness_percentage_my_preference, \"Plurality concurrent voting average overall happiness H_p\")\n",
        "plot_it_mate(antiplurality_conc_average_overall_happiness_percentage_my_preference, \"Antiplurality concurrent voting average overall happiness H_p\")\n",
        "plot_it_mate(votingfortwo_conc_average_overall_happiness_percentage_my_preference, \"Voting for two concurrent voting average overall happiness H_p\")\n",
        "plot_it_mate(borda_conc_average_overall_happiness_percentage_my_preference, \"borda concurrent voting average overall happiness H_p\")"
      ],
      "metadata": {
        "id": "Orl1BS9OMTDN"
      },
      "execution_count": null,
      "outputs": []
    },
    {
      "cell_type": "markdown",
      "source": [
        "plot [voting_scheme]_conc_average_overall_happiness_percentage_social_index of the 4 voting schemes"
      ],
      "metadata": {
        "id": "9cVKsJjDN5AL"
      }
    },
    {
      "cell_type": "code",
      "source": [
        "plot_it_mate(plurality_conc_average_overall_happiness_percentage_social_index, \"Plurality concurrent voting average overall happiness H_si\")\n",
        "plot_it_mate(antiplurality_conc_average_overall_happiness_percentage_social_index, \"Antiplurality concurrent voting average overall happiness H_si\")\n",
        "plot_it_mate(votingfortwo_conc_average_overall_happiness_percentage_social_index, \"Voting for two concurrent voting average overall happiness H_si\")\n",
        "plot_it_mate(borda_conc_average_overall_happiness_percentage_social_index, \"Borda concurrent voting average overall happiness H_si\")"
      ],
      "metadata": {
        "id": "NkuCPxJcN9bf"
      },
      "execution_count": null,
      "outputs": []
    },
    {
      "cell_type": "markdown",
      "source": [
        "plot [voting_scheme]_conc_average_overall_happiness_increases_percentage_my_preference of the 4 voting schemes"
      ],
      "metadata": {
        "id": "5GHHY2enNUio"
      }
    },
    {
      "cell_type": "code",
      "source": [
        "plot_it_mate(plurality_conc_average_overall_happiness_increases_percentage_my_preference, \"Plurality concurrent voting average happiness increases H_p\")\n",
        "plot_it_mate(antiplurality_conc_average_overall_happiness_increases_percentage_my_preference, \"Antiplurality concurrent voting average happiness increases H_p\")\n",
        "plot_it_mate(votingfortwo_conc_average_overall_happiness_increases_percentage_my_preference, \"Voting for two concurrently average happiness increases H_p\")\n",
        "plot_it_mate(borda_conc_average_overall_happiness_increases_percentage_my_preference, \"Borda concurrently average happiness increases H_p\")"
      ],
      "metadata": {
        "id": "x0QcWSWENeTk"
      },
      "execution_count": null,
      "outputs": []
    },
    {
      "cell_type": "markdown",
      "source": [
        "Plot [voting_scheme]_counter_average_voting_overall_percentage_social_index of the 4 voting schemes"
      ],
      "metadata": {
        "id": "2FZtwTP2NtTp"
      }
    },
    {
      "cell_type": "code",
      "source": [
        "# experiments/tests return nothing for the first plot, so omit it.\n",
        "#plot_it_mate(plurality_conc_average_overall_happiness_increases_percentage_social_index, \"plurality_conc_average_overall_happiness_increases_percentage_social_index\")\n",
        "plot_it_mate(antiplurality_conc_average_overall_happiness_increases_percentage_social_index, \"Antiplurality voting concurrent average overall happiness increases H_si\")\n",
        "plot_it_mate(votingfortwo_conc_average_overall_happiness_increases_percentage_social_index, \"Voting for two concurrent average overall happiness increases H_si\")\n",
        "plot_it_mate(borda_conc_average_overall_happiness_increases_percentage_social_index, \"Borda concurrent average overall happiness increases H_si\")"
      ],
      "metadata": {
        "id": "RbvKzt6qNzc0"
      },
      "execution_count": null,
      "outputs": []
    },
    {
      "cell_type": "markdown",
      "source": [
        "Plot [voting_scheme]_counter_average_voting_overall_percentage_my_preference of the 4 voting schemes"
      ],
      "metadata": {
        "id": "bl0xZGxePKDJ"
      }
    },
    {
      "cell_type": "code",
      "source": [
        "plot_it_mate(plurality_counter_average_voting_overall_percentage_my_preference, \"Plurality counter strategic voting overall H_p\")\n",
        "plot_it_mate(antiplurality_counter_average_voting_overall_percentage_my_preference, \"Antiplurality counter strategic voting overall H_p\")\n",
        "plot_it_mate(votingfortwo_counter_average_voting_overall_percentage_my_preference, \"Voting for two counter strategic voting overall H_p\")\n",
        "plot_it_mate(borda_counter_average_voting_overall_percentage_my_preference, \"Borda counter strategic voting overall H_p\")"
      ],
      "metadata": {
        "id": "S_4lARKmPD9k"
      },
      "execution_count": null,
      "outputs": []
    },
    {
      "cell_type": "markdown",
      "source": [
        "Plot [voting_scheme]_counter_average_voting_overall_percentage_social_index of the 4 voting schemes"
      ],
      "metadata": {
        "id": "I5O0IVnDPfae"
      }
    },
    {
      "cell_type": "code",
      "source": [
        "# ignore first one, as it has no values returned from the tests/experiments\n",
        "#plot_it_mate(plurality_counter_average_voting_overall_percentage_social_index, \"plurality_counter_average_voting_overall_percentage_social_index\")\n",
        "plot_it_mate(antiplurality_counter_average_voting_overall_percentage_social_index, \"Antiplurality counter strategic voting average overall H_si\")\n",
        "plot_it_mate(votingfortwo_counter_average_voting_overall_percentage_social_index, \"Voting for two counter strategic voting average overall H_si\")\n",
        "plot_it_mate(borda_counter_average_voting_overall_percentage_social_index, \"Borda counter strategic voting average overall H_si\")"
      ],
      "metadata": {
        "id": "YtuozUHQPh7X"
      },
      "execution_count": null,
      "outputs": []
    },
    {
      "cell_type": "markdown",
      "source": [
        "Plot [voting_scheme]_counter_average_voting_increases_percentage_my_preference of the 4 voting schemes"
      ],
      "metadata": {
        "id": "D4dvWJ-wQe-S"
      }
    },
    {
      "cell_type": "code",
      "source": [
        "plot_it_mate(plurality_counter_average_voting_increases_percentage_my_preference, \"Plurality counter stratetgic voting average increases H_p\")\n",
        "plot_it_mate(antiplurality_counter_average_voting_increases_percentage_my_preference, \"Antiplurality counter strategic voting average increases H_p\")\n",
        "plot_it_mate(votingfortwo_counter_average_voting_increases_percentage_my_preference, \"Voting for two counter strategic voting average increases H_p\")\n",
        "plot_it_mate(borda_counter_average_voting_increases_percentage_my_preference, \"Borda counter strategic voting average increases H_p\")"
      ],
      "metadata": {
        "id": "FWykY5g6Qi9g"
      },
      "execution_count": null,
      "outputs": []
    },
    {
      "cell_type": "markdown",
      "source": [
        "Plot [voting_scheme]_counter_average_voting_increases_percentage_social_index of the 4 voting schemes"
      ],
      "metadata": {
        "id": "L1Lu_z07QxUb"
      }
    },
    {
      "cell_type": "code",
      "source": [
        "# tests/experiments dont return values for plurality_counter_average_voting_increases_percentage_social_index, so omit it\n",
        "#plot_it_mate(plurality_counter_average_voting_increases_percentage_social_index, \"plurality_counter_average_voting_increases_percentage_social_index\")\n",
        "plot_it_mate(antiplurality_counter_average_voting_increases_percentage_social_index, \"Antiplurality counter strategic voting average increases H_si\")\n",
        "plot_it_mate(votingfortwo_counter_average_voting_increases_percentage_social_index, \"Voting for two counter strategic voting average increases H_si\")\n",
        "plot_it_mate(borda_counter_average_voting_increases_percentage_social_index, \"Borda counter strategic voting average increases H_si\")"
      ],
      "metadata": {
        "id": "c_JlN8uuQ2jG"
      },
      "execution_count": null,
      "outputs": []
    }
  ]
}